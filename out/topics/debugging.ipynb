{
 "cells": [
  {
   "cell_type": "markdown",
   "metadata": {},
   "source": [
    "[![Open In Colab](https://colab.research.google.com/assets/colab-badge.svg)](https://colab.research.google.com/github/mottaquikarim/pycontent/blob/master/.out/topics/debugging.ipynb)"
   ]
  },
  {
   "cell_type": "markdown",
   "metadata": {},
   "source": [
    "<img src=\"https://s3.amazonaws.com/python-ga/images/GA_Cog_Medium_White_RGB.png\"/>\n",
    "\n",
    "# Debugging Principles and Techniques\n",
    "\n",
    "## Lesson Objectives\n",
    "\n",
    "This lesson will introduce simple methods for investigating issues in your code. At this point, it's not so much about being able to analyze complex problems as about becoming aware of and familiar with common error messages and their meanings. After this lesson, you will be able to...\n",
    "\n",
    "* Troubleshoot common types of errors.\n",
    "* Implement basic exception mitigation.\n",
    "\n",
    "## Making Errors Into Friends\n",
    "\n",
    "On the surface, errors are frustrating! However, Python errors are usually very helpful and have clear messages. You'll see that:\n",
    "\n",
    "* Errors sometimes say exactly what's wrong.\n",
    "* Errors often point out the line number where the error occurred.\n",
    "* Some errors have very common causes.\n",
    "* Errors may say exactly how to fix the issue.\n",
    "\n",
    "With that in mind, what's the problem with this code?\n",
    "\n",
    "<img src=\"https://s3.amazonaws.com/ga-instruction/assets/python-fundamentals/ZeroDivisionError.png\" width=\"750px\"/>\n",
    "\n",
    "## List of Common Errors\n",
    "\n",
    "This chart's for you to refer to later - don't memorize it now!\n",
    "\n",
    "| Error Type  | Most Common Cause |\n",
    "| ----------- | ------------------|\n",
    "| `AttributeError` | Attempting to access a non-existent attribute |\n",
    "| `KeyError` | Attempting to access a non-existent key in a dict |\n",
    "| `ImportError` | A module you tried to import doesn't exist |\n",
    "| `IndexError` | Accessing a list element that doesn't exist |\n",
    "| `IndentationError` | Indenting code in an invalid way |\n",
    "| `IOError` | Accessing a file that doesn't exist |\n",
    "| `NameError` | Attempting to use a module you haven't imported/installed or a variable you haven't created |\n",
    "| `OverflowError` | You made a number larger than the maximum size |\n",
    "| `RuntimeError` | Python can't categorize the issue into any other error type. |\n",
    "| `SyntaxError` | A typo or mistake in adhering to the linguistic syntax of Python |\n",
    "| `TypeError` | Combining or comparing two different date types in an incompatiable manner |\n",
    "| `ValueError` | When a function receives an argument of the correct type, but an invalid value |\n",
    "| `ZeroDivisionError` | Dividing By Zero |\n",
    "\n",
    "## Error Examples\n",
    "\n",
    "Copy these example into [Repl.it](https://repl.it/) to run the code and see the error messages for yourself.\n",
    "\n",
    "### IndexError\n",
    "\n",
    "**Cause**: Index errors typically happen when you attempt to access a list index that doesn't exist.\n"
   ]
  },
  {
   "cell_type": "code",
   "execution_count": null,
   "metadata": {},
   "outputs": [],
   "source": [
    "race_runners = [\"Yuna\", \"Bill\", \"Hyun\"]\n",
    "\n",
    "first_place = race_runners[1]\n",
    "second_place = race_runners[2]\n",
    "third_place = race_runners[3]\n",
    "\n",
    "print(\"The winners are:\", first_place, second_place, third_place)"
   ]
  },
  {
   "cell_type": "markdown",
   "metadata": {},
   "source": [
    "\n",
    "### NameError\n",
    "\n",
    "**Cause**: Attempting to use a module you haven't imported/installed or a variable you haven't created\n"
   ]
  },
  {
   "cell_type": "code",
   "execution_count": null,
   "metadata": {},
   "outputs": [],
   "source": [
    "# Get a number between 2 and 8.\n",
    "my_nums = 5\n",
    "\n",
    "# Print the number\n",
    "print(my_num)"
   ]
  },
  {
   "cell_type": "markdown",
   "metadata": {},
   "source": [
    "\n",
    "### KeyError\n",
    "\n",
    "**Cause**: Accessing a key in a dictionary that doesn't exist. The error message tells you exactly what key is missing!\n",
    "\n",
    "Reasons for this could include:\n",
    "\n",
    "* A misspelling.\n",
    "* Mixing uppercase and lowercase.\n",
    "* Forgetting what keys exist\n"
   ]
  },
  {
   "cell_type": "code",
   "execution_count": null,
   "metadata": {},
   "outputs": [],
   "source": [
    "my_favorites = {\n",
    "  \"Food\": \"Lobster Rolls\",\n",
    "  \"Song\": \"Bohemian Rhapsody\",\n",
    "  \"Flower\": \"Iris\",\n",
    "  \"Band\": \"Tom Petty & the Heartbreakers\",\n",
    "  \"Color\": \"Green\",\n",
    "  \"Movie\": \"The Princess Bride\",\n",
    "  \"Programming Language\": \"Python\"\n",
    "}\n",
    "\n",
    "# This is okay!\n",
    "print(\"My favorite color is\", my_favorites[\"Color\"])\n",
    "\n",
    "# This is NOT okay! (Case sensitivity!)\n",
    "print(\"My favorite color is\", my_favorites[\"color\"])\n",
    "\n",
    "# This is NOT okay! (Key doesn't exist)\n",
    "print(\"My favorite restaurant is\", my_favorites[\"Restaurant\"])"
   ]
  },
  {
   "cell_type": "markdown",
   "metadata": {},
   "source": [
    "\n",
    "### AttributeError\n",
    "\n",
    "**Cause**: Accessing an attribute that doesn't exist for some object class\n"
   ]
  },
  {
   "cell_type": "code",
   "execution_count": null,
   "metadata": {},
   "outputs": [],
   "source": [
    "class Dog():\n",
    "    def __init__(self, name):\n",
    "        self.name = name\n",
    "    \n",
    "    def bark(self):\n",
    "        print(\"Bark!\")\n",
    "\n",
    "# Declare a new dog instance\n",
    "my_dog = Dog(\"Fido\")\n",
    "\n",
    "# Call the bark method\n",
    "my_dog.bark() # OK!\n",
    "\n",
    "# Call the run method\n",
    "my_dog.run() # AttributeError!"
   ]
  },
  {
   "cell_type": "markdown",
   "metadata": {},
   "source": [
    "\n",
    "### SyntaxError\n",
    "\n",
    "**Cause**: A typo or mistake in adhering to the linguistic syntax of Python\n"
   ]
  },
  {
   "cell_type": "code",
   "execution_count": null,
   "metadata": {},
   "outputs": [],
   "source": [
    "my_age = 13\n",
    "\n",
    "if my_age = 18:\n",
    "    print(\"I may vote.\")\n",
    "else:\n",
    "    print(\"I may not vote.\")"
   ]
  },
  {
   "cell_type": "markdown",
   "metadata": {},
   "source": [
    "\n",
    "### TypeError\n",
    "\n",
    "**Cause**: Combining or comparing two different date types in an incompatiable manner\n"
   ]
  },
  {
   "cell_type": "code",
   "execution_count": null,
   "metadata": {},
   "outputs": [],
   "source": [
    "my_num = 5 + \"10\"\n",
    "print(my_num)"
   ]
  },
  {
   "cell_type": "markdown",
   "metadata": {},
   "source": [
    "\n",
    "### IndentationError\n",
    "\n",
    "**Causes**:\n",
    "\n",
    " * Missing indents\n",
    " * Mismatched indentation\n",
    " * Mixing tabs and spaces\n"
   ]
  },
  {
   "cell_type": "code",
   "execution_count": null,
   "metadata": {},
   "outputs": [],
   "source": [
    "my_age = 13\n",
    "\n",
    "if my_age == 16:\n",
    "  print(\"I may drive.\")\n",
    "else:\n",
    "print(\"I may not drive.\")"
   ]
  },
  {
   "cell_type": "markdown",
   "metadata": {},
   "source": [
    "\n",
    "### ValueError\n",
    "\n",
    "**Cause**: When a function receives an argument of the correct type, but an invalid value\n",
    "\n",
    "This is *most commonly* caused by trying to convert a string into a number.\n"
   ]
  },
  {
   "cell_type": "code",
   "execution_count": null,
   "metadata": {},
   "outputs": [],
   "source": [
    "# This is okay!\n",
    "my_num = int(\"10\")\n",
    "\n",
    "# This throws a ValueError\n",
    "my_num = int(\"Moose\")"
   ]
  },
  {
   "cell_type": "markdown",
   "metadata": {},
   "source": [
    "\n",
    "## Anticipating Errors with Try/Except\n",
    "\n",
    "Sometimes, we have code that we expect might throw an error. For example, what happens in the below code if a user types in \"43F\" to signify Fahrenheit?\n"
   ]
  },
  {
   "cell_type": "code",
   "execution_count": null,
   "metadata": {},
   "outputs": [],
   "source": [
    "temp = input('What temperature is it outside? ')\n",
    "\n",
    "if int(temp) < 65:\n",
    "    print('wear a jacket!')"
   ]
  },
  {
   "cell_type": "markdown",
   "metadata": {},
   "source": [
    "\n",
    "That would cause a `ValueError` because it's trying to convert a string to an integer. Because we know this is a possibility, we COULD add some conditions to handle asking the user for valid input.\n"
   ]
  },
  {
   "cell_type": "code",
   "execution_count": null,
   "metadata": {},
   "outputs": [],
   "source": [
    "temp = input('What temperature is it outside? ')\n",
    "\n",
    "if type(temp) == int or type(temp) == float:\n",
    "    if temp < 65:\n",
    "        print('wear a jacket!')\n",
    "else:\n",
    "    print('Please enter a numeric value for the temperature.')"
   ]
  },
  {
   "cell_type": "markdown",
   "metadata": {},
   "source": [
    "\n",
    "However, this could get out of hand when there are a multitude of scenarios that could cause a potential error. A **Try/Except statement** is a more elegant method for handling common errors. It's syntactically similar to a conditional statement. It also has similar control flow. Just like the `else` in an if/else block, `except` only runs if Python encounters a problem in the `try` code block.\n",
    "\n",
    "<img src=\"https://raw.githubusercontent.com/mottaquikarim/pycontent/master/content/images/try_except.png\" width=\"500px\"/>\n",
    "\n",
    "Below is the most general version of a try/except block. It will catch any error.\n"
   ]
  },
  {
   "cell_type": "code",
   "execution_count": null,
   "metadata": {},
   "outputs": [],
   "source": [
    "temp = input('What temperature is it outside? ')\n",
    "\n",
    "try:\n",
    "    if int(temp) < 65:\n",
    "        print('wear a jacket!')\n",
    "except:\n",
    "    print(f\"Something went wrong!\")"
   ]
  },
  {
   "cell_type": "markdown",
   "metadata": {},
   "source": [
    "\n",
    "However, it doesn't capture any details about the issue. That's why it's better to add `Exception as <some_variable>`. You can then access the value and attributes of that variable to get more information about the error. In the below, we call this variable `e`. Simply printing out `e` displays a brief error message. Use `e.__class__.__name__` to print the name of the error.\n"
   ]
  },
  {
   "cell_type": "code",
   "execution_count": null,
   "metadata": {},
   "outputs": [],
   "source": [
    "temp = input('What temperature is it outside? ')\n",
    "\n",
    "try:\n",
    "    if int(temp) < 65:\n",
    "        print('wear a jacket!')\n",
    "except Exception as e:\n",
    "    print(f'''{e.__class__.__name__}: {e}''')\n",
    "    print('Please enter a valid number.')"
   ]
  },
  {
   "cell_type": "markdown",
   "metadata": {},
   "source": [
    "\n",
    "Again, the above is general in that it captures any type of error. If you know the type of error you're anticipating though, it's best to specify that in the code to let others know your thought process.\n"
   ]
  },
  {
   "cell_type": "code",
   "execution_count": null,
   "metadata": {},
   "outputs": [],
   "source": [
    "temp = input('What temperature is it outside? ')\n",
    "\n",
    "try:\n",
    "    if int(temp) < 65:\n",
    "        print('wear a jacket!')\n",
    "except ValueError as ve:\n",
    "    print(f'''{ve.__class__.__name__}: {ve}''')\n",
    "    print('Please enter a valid number.')"
   ]
  },
  {
   "cell_type": "markdown",
   "metadata": {},
   "source": [
    "\n",
    "## Key Takeaways\n",
    "\n",
    "* Python has many built-in errors. Some of the **most** common are keep in mind are TypeErrors, ValueErrors, KeyErrors, IndexErrors, AttributeErrors, and SyntaxErrors.\n",
    "* Use `try`/`except` syntax to catch an expected error.\n",
    "* Logic issues don't throw errors, so be careful!\n",
    "\n",
    "## Additional Resources\n",
    "\n",
    "* [Built-In Exception Docs](https://docs.python.org/3/library/exceptions.html)\n",
    "* [Error Flowchart PDF](https://www.dropbox.com/s/cqsxfws52gulkyx/drawing.pdf)\n",
    "* [Raising Exceptions](https://realpython.com/python-exceptions/)\n",
    "* [A deep dive into try/except clauses](https://jeffknupp.com/blog/2013/02/06/write-cleaner-python-use-exceptions/)\n",
    "* To get advanced, add [logging](https://fangpenlin.com/posts/2012/08/26/good-logging-practice-in-python/) to your code.\n",
    "* To get very advanced, include [unit tests](http://www.diveintopython.net/unit_testing/index.html)\n",
    "* The [pytest module](http://pythontesting.net/framework/pytest/pytest-introduction/) is great for unit testing."
   ]
  }
 ],
 "metadata": {},
 "nbformat": 4,
 "nbformat_minor": 2
}
