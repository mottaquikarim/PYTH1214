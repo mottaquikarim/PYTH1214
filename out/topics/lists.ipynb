{
 "cells": [
  {
   "cell_type": "markdown",
   "metadata": {},
   "source": [
    "[![Open In Colab](https://colab.research.google.com/assets/colab-badge.svg)](https://colab.research.google.com/github/mottaquikarim/pycontent/blob/master/.out/topics/lists.ipynb)"
   ]
  },
  {
   "cell_type": "markdown",
   "metadata": {},
   "source": [
    "# Lists\n",
    "\n",
    "In order to begin to truly write dynamic programs, we need to be able to work with data even when we do not know how much we have. Since *variables hold only one item*, Python has some objects that hold collections of data. A **list** object is one of those. **Lists** hold multiple items, called **elements**. List elements can represent any data type, and most, importantly, *a single list can hold any mix of different data types, **including other lists**.*\n",
    "\n",
    "## Creating lists\n",
    "\n",
    "To declare a new list varaible, you have two options -- `[]` or `list()`. The `[]` syntax is a bit more straightforward. If you choose to use the `list()` method, you still have to pass the items to it within `[]` because it will only accept **one** parameter...\n"
   ]
  },
  {
   "cell_type": "code",
   "execution_count": null,
   "metadata": {},
   "outputs": [],
   "source": [
    "# Empty\n",
    "empty1 = []\n",
    "empty2 = list()"
   ]
  },
  {
   "cell_type": "markdown",
   "metadata": {},
   "source": []
  },
  {
   "cell_type": "code",
   "execution_count": null,
   "metadata": {},
   "outputs": [],
   "source": [
    "# Mixed Data Types\n",
    "mix1 = [True, ['seal', 'spider monkey'], 22, 'lion', [False, 13]]\n",
    "mix2 = list([True, ['seal', 'spider monkey'], 22, 'lion', [False, 13]])"
   ]
  },
  {
   "cell_type": "markdown",
   "metadata": {},
   "source": []
  },
  {
   "cell_type": "code",
   "execution_count": null,
   "metadata": {},
   "outputs": [],
   "source": [
    "# Nested List\n",
    "nested1 = [['circus', 'clown'], ['trapeze', 'artist']]\n",
    "nested2 = list([['circus', 'clown'], ['trapeze', 'artist']])"
   ]
  },
  {
   "cell_type": "markdown",
   "metadata": {},
   "source": [
    "\n",
    "The `list()` method can be tricky. Here's what happens if you pass more than one item to it:\n"
   ]
  },
  {
   "cell_type": "code",
   "execution_count": null,
   "metadata": {},
   "outputs": [],
   "source": [
    "try:\n",
    "\tcolors = list('red', 'yellow', 'green')\n",
    "except TypeError as t:\n",
    "\tprint(f'{t.__class__.__name__}: {t}')\n",
    "\t# TypeError: list() takes at most 1 argument (3 given)"
   ]
  },
  {
   "cell_type": "markdown",
   "metadata": {},
   "source": [
    "Even if you do pass only *one* item, you still have to enclose it with `[]`. If you pass a single number or a single boolean without using brackets, you'll get a `TypeError`.\n"
   ]
  },
  {
   "cell_type": "code",
   "execution_count": null,
   "metadata": {},
   "outputs": [],
   "source": [
    "try:\n",
    "\tcolors = list('red', 'yellow', 'green')\n",
    "except TypeError as t:\n",
    "\tprint(f'{t.__class__.__name__}: {t}')\n",
    "\t# TypeError: list() takes at most 1 argument (3 given)\n",
    "\n",
    "try:\n",
    "\ty = list(True)\n",
    "except TypeError as t:\n",
    "\tprint(f'{t.__class__.__name__}: {t}')\n",
    "\t# TypeError: list() takes at most 1 argument (3 given)"
   ]
  },
  {
   "cell_type": "markdown",
   "metadata": {},
   "source": [
    "\n",
    "If you pass a string without using brackets, you won't get quite what you want.\n"
   ]
  },
  {
   "cell_type": "code",
   "execution_count": null,
   "metadata": {},
   "outputs": [],
   "source": [
    "z = list('Layla')\n",
    "print(z)\n",
    "# ['L', 'a', 'y', 'l', 'a']"
   ]
  },
  {
   "cell_type": "markdown",
   "metadata": {},
   "source": [
    "\n",
    "And if you think it works for sentences by parsing a new list element at each space character...*nope!*\n"
   ]
  },
  {
   "cell_type": "code",
   "execution_count": null,
   "metadata": {},
   "outputs": [],
   "source": [
    "sentence = list('I like to sing!')\n",
    "print(sentence)\n",
    "# ['I', ' ', 'l', 'i', 'k', 'e', ' ', 't', 'o', ' ', 's', 'i', 'n', 'g', '!']"
   ]
  },
  {
   "cell_type": "markdown",
   "metadata": {},
   "source": [
    "\n",
    "## Accessing Elements in the List\n",
    "\n",
    "The **list index** means the location of each element in the list. List indexes start counting at 0!\n",
    "\n",
    "|  List | 'snickerdoodles' | 'shortbread' | 'oatmeal raisin' | 'gingersnaps' | 'macarons' |\n",
    "|:-----:|:--------:|:-----:|:-------:|:------:|:------:|\n",
    "| Index |     0    |   1   |    2    |    3   |    4   |\n",
    "\n",
    "\n",
    "To access one of them use the syntax `list_name[index_position]`.\n"
   ]
  },
  {
   "cell_type": "code",
   "execution_count": null,
   "metadata": {},
   "outputs": [],
   "source": [
    "cookies = ['snickerdoodles', 'shortbread', 'oatmeal raisin', 'gingersnaps', 'macarons']\n",
    "print(cookies[0]) # snickerdoodles\n",
    "print(cookies[1]) # shortbread\n",
    "print(cookies[4]) # macarons"
   ]
  },
  {
   "cell_type": "markdown",
   "metadata": {},
   "source": [
    "\n",
    "What if you want to grab a single element from a list nested within a list though? Simply add another level of index selection.\n"
   ]
  },
  {
   "cell_type": "code",
   "execution_count": null,
   "metadata": {},
   "outputs": [],
   "source": [
    "nested_lists = list([['circus', 'clown'], ['trapeze', 'artist']])\n",
    "print(nested_lists[0][0]) # circus\n",
    "print(nested_lists[1][0]) # trapeze"
   ]
  },
  {
   "cell_type": "markdown",
   "metadata": {},
   "source": [
    "\n",
    "The `len()` function will give you the total number of list elements (regardless of data type).\n"
   ]
  },
  {
   "cell_type": "code",
   "execution_count": null,
   "metadata": {},
   "outputs": [],
   "source": [
    "cookies = ['snickerdoodles', 'shortbread', 'oatmeal raisin', 'gingersnaps', 'macarons']\n",
    "types_of_cookies = len(cookies)\n",
    "print(types_of_cookies) # 5"
   ]
  },
  {
   "cell_type": "markdown",
   "metadata": {},
   "source": [
    "\n",
    ">>**REMEMBER!** \n",
    ">>Because the index starts at 0, the index position of the last item in the list will NOT be equal to the list's length.\n",
    "\n",
    "If you pass in any list index greater than or equal to the length of the list, you will get an `IndexError`:\n"
   ]
  },
  {
   "cell_type": "code",
   "execution_count": null,
   "metadata": {},
   "outputs": [],
   "source": [
    "print(cookies[types_of_cookies])\n",
    "### IndexError: list index out of range"
   ]
  },
  {
   "cell_type": "markdown",
   "metadata": {},
   "source": [
    "\n",
    "Aside from merely finding the length, `len()` comes in handy if you need to dynamically select the last element of a list. Logically, the length of the list minus 1 will give you the index of the last list element, i.e. `index_of_last_element = len(list_name) - 1`.\n"
   ]
  },
  {
   "cell_type": "code",
   "execution_count": null,
   "metadata": {},
   "outputs": [],
   "source": [
    "cookies = ['snickerdoodles', 'shortbread', 'oatmeal raisin', 'gingersnaps', 'macarons']\n",
    "types_of_cookies = len(cookies)\n",
    "\n",
    "# (types_of_cookies - 1) is the index of the last element\n",
    "print(cookies[types_of_cookies - 1]) # macarons"
   ]
  },
  {
   "cell_type": "markdown",
   "metadata": {},
   "source": [
    "\n",
    "That brings us to something called **negative indexing**. Because of the above rule, Python allows you to take this shortcut to access the last list element:\n"
   ]
  },
  {
   "cell_type": "code",
   "execution_count": null,
   "metadata": {},
   "outputs": [],
   "source": [
    "print(cookies[-1])"
   ]
  },
  {
   "cell_type": "markdown",
   "metadata": {},
   "source": [
    "\n",
    "Likewise, as you count backwards from the last list element, the negative index extends...\n"
   ]
  },
  {
   "cell_type": "code",
   "execution_count": null,
   "metadata": {},
   "outputs": [],
   "source": [
    "print(f'2nd to last item is {cookies[-2]}')\n",
    "print(f'3rd to last item is {cookies[-3]}')"
   ]
  },
  {
   "cell_type": "markdown",
   "metadata": {},
   "source": [
    "\n",
    "### Selecting Ranges\n",
    "\n",
    "To select multiple items from a list, simply pass the range of indeces which hold the desired elements, e.g. `my_list[2:7]`. It's important to remember that **the upper bound is NOT inclusive**. In other words, if you want the elements at index 3 and index 4, you have to write `[3:5]`. (Likewise, `my_list[1:1]` would print nothing.) \n"
   ]
  },
  {
   "cell_type": "code",
   "execution_count": null,
   "metadata": {},
   "outputs": [],
   "source": [
    "cookies = ['snickerdoodle', 'chocolate chip', 'shortbread', 'oatmeal raisin', 'gingerbread', 'pizelle', 'macarons', 'gingersnaps']\n",
    "print(cookies[3:5])"
   ]
  },
  {
   "cell_type": "markdown",
   "metadata": {},
   "source": [
    "\n",
    "Ommitting one or both bounds acts as a shortcut when the length and order of your list might vary. It allows you to say, \"Give me everything from the beginning of the list to index `x`\" or \"Give me everything from index `x` and onward.\"\n"
   ]
  },
  {
   "cell_type": "code",
   "execution_count": null,
   "metadata": {},
   "outputs": [],
   "source": [
    "cookies = ['snickerdoodle', 'chocolate chip', 'shortbread', 'oatmeal raisin', 'gingerbread', 'pizelle', 'macarons', 'gingersnaps']\n",
    "\n",
    "print('[:2] -- ', my_class[:2]) # All indeces up to, but NOT including index 2\n",
    "\n",
    "print('[2:] -- ', my_class[2:]) # Index 2 through end of list"
   ]
  },
  {
   "cell_type": "markdown",
   "metadata": {},
   "source": [
    "\n",
    "#### Practice together!\n"
   ]
  },
  {
   "cell_type": "code",
   "execution_count": null,
   "metadata": {},
   "outputs": [],
   "source": [
    "pets = ['dog', 'cat', 'guinea pig', 'ferret', 'bird', 'lizard']\n",
    "\n",
    "# Print index 1:\n",
    "\n",
    "\n",
    "# Print ['guinea pig', 'ferret']:\n",
    "\n",
    "\n",
    "# Print the 5th element:\n",
    "\n",
    "\n",
    "# Print all elements up to and INCLUDING 'ferret':\n",
    "\n",
    "\n",
    "# Print 'dog':\n",
    "\n",
    "\n",
    "# Print all elements from 'ferret' onwards:\n",
    "\n"
   ]
  },
  {
   "cell_type": "markdown",
   "metadata": {},
   "source": [
    "\n",
    "## Editing List Content\n",
    "\n",
    "### Add Items to a List\n",
    "If you want to add elements to a list, you can use any of the below methods:\n",
    "\n",
    "* `.append()`: adds items to the end of a list in one chunk\n",
    "* `.extend()`: adds items to the end of a list individually\n",
    "* `.insert(index, value)`: adds an item to a specific position in the list\n",
    "\n",
    "#### `.append()` vs. `.extend()`\n",
    "\n",
    "Let's go through some examples. First, we'll look at the difference between `.append()` and `.extend()`. As mentioned above, `.append()` will add whatever value or group of values you pass it *in one chunk*. In contrast, if you pass a group of values into `.extend()`, it will add *each* element of the group *individually*.\n",
    "\n",
    "**APPEND**\n"
   ]
  },
  {
   "cell_type": "code",
   "execution_count": null,
   "metadata": {},
   "outputs": [],
   "source": [
    "pies = ['apple', 'pumpkin', 'pecan', 'blueberry']\n",
    "more_pies = ['lemon meringue', 'strawberry peach', 'banana cream']\n",
    "\n",
    "pies.append(more_pies)\n",
    "print(f'.append(): {pies}\\n')"
   ]
  },
  {
   "cell_type": "markdown",
   "metadata": {},
   "source": [
    "\n",
    "**EXTEND**\n"
   ]
  },
  {
   "cell_type": "code",
   "execution_count": null,
   "metadata": {},
   "outputs": [],
   "source": [
    "pies = ['apple', 'pumpkin', 'pecan', 'blueberry']\n",
    "more_pies = ['lemon meringue', 'strawberry peach', 'banana cream']\n",
    "\n",
    "pies.extend(more_pies)\n",
    "print(f'.extend(): {pies}')"
   ]
  },
  {
   "cell_type": "markdown",
   "metadata": {},
   "source": [
    "\n",
    "In the next example, take a look at how `.extend()` only considers individual values of the *parent list* passed in. It still adds the nested lists - `['f', 'g']` and `['h', 'i']` - to our list `x` as their own items.\n"
   ]
  },
  {
   "cell_type": "code",
   "execution_count": null,
   "metadata": {},
   "outputs": [],
   "source": [
    "x = ['a', 'b', 'c', 'd']\n",
    "y = ['e', ['f', 'g'], ['h', 'i'], 'j']\n",
    "x.extend(y)\n",
    "print(x)\n",
    "# ['a', 'b', 'c', 'd', 'e', ['f', 'g'], ['h', 'i'], 'j']"
   ]
  },
  {
   "cell_type": "markdown",
   "metadata": {},
   "source": [
    "\n",
    "#### `.insert(index, value)`\n",
    "\n",
    "If you want to add an item to a specific point in your list, you can pass the desired index and value into `.insert()` as follows.\n"
   ]
  },
  {
   "cell_type": "code",
   "execution_count": null,
   "metadata": {},
   "outputs": [],
   "source": [
    "pies = ['apple', 'pumpkin', 'pecan', 'blueberry']\n",
    "pies.insert(1, 'key lime')\n",
    "print(pies)"
   ]
  },
  {
   "cell_type": "markdown",
   "metadata": {},
   "source": [
    "\n",
    "Whatever you pass into the `value` parameter will be added as a single element though!\n"
   ]
  },
  {
   "cell_type": "code",
   "execution_count": null,
   "metadata": {},
   "outputs": [],
   "source": [
    "pies = ['apple', 'pumpkin', 'pecan', 'blueberry']\n",
    "pies.insert(1, ['lemon meringue', 'strawberry peach'])\n",
    "print(pies)"
   ]
  },
  {
   "cell_type": "markdown",
   "metadata": {},
   "source": [
    "\n",
    "### Remove Items from a List\n",
    "\n",
    "Likewise, you can use `.pop()` or `.pop(index)` to remove any type of element from a list.\n",
    "\n",
    "#### `.pop()`\n",
    "- Removes an item from the end of the list.\n"
   ]
  },
  {
   "cell_type": "code",
   "execution_count": null,
   "metadata": {},
   "outputs": [],
   "source": [
    "pies = ['cherry', 'lemon meringue', 'pecan', 'key lime', 'blackberry', 'strawberry peach', 'blueberry']\n",
    "eaten = pies.pop()\n",
    "print(f'The {eaten} pie got eaten.')\n",
    "print(pies)"
   ]
  },
  {
   "cell_type": "markdown",
   "metadata": {},
   "source": [
    "\n",
    "#### `.pop(index)`\n",
    "\n",
    "- Removes an item from the list.\n",
    "- Can take an index.\n"
   ]
  },
  {
   "cell_type": "code",
   "execution_count": null,
   "metadata": {},
   "outputs": [],
   "source": [
    "pies = ['cherry', 'lemon meringue', 'pecan', 'key lime', 'blackberry', 'strawberry peach']\n",
    "eaten = pies.pop(2) # Remember to count from 0!\n",
    "print(f'The {eaten} pie got eaten.')"
   ]
  },
  {
   "cell_type": "markdown",
   "metadata": {},
   "source": [
    "\n",
    "### Copying Lists\n",
    "\n",
    "You can create a copy of a list simply by declaring a new variable and setting it equal to the existing list, as seen with `pies2` below. In contrast, you can create a *deep copy*, one that doesn't point back to the original, using `[:]` as seen with `pies3` below.\n"
   ]
  },
  {
   "cell_type": "code",
   "execution_count": null,
   "metadata": {},
   "outputs": [],
   "source": [
    "pies1 = ['strawberry', 'cherry', 'blackberry', 'blueberry']\n",
    "pies2 = pies1\n",
    "pies3 = pies1[:]\n",
    "\n",
    "print(f'''\n",
    "pies1: {pies1}\n",
    "pies2: {pies2}\n",
    "pies3: {pies3}\n",
    "''')"
   ]
  },
  {
   "cell_type": "markdown",
   "metadata": {},
   "source": [
    "\n",
    "Let's look at the difference in action. With the first method, you're saying that `pies2` points to the place in memory where `pies1` is stored. That means if you edit `pies2`, you're effectively editing `pies1` along with it.\n"
   ]
  },
  {
   "cell_type": "code",
   "execution_count": null,
   "metadata": {},
   "outputs": [],
   "source": [
    "pies1 = ['strawberry', 'cherry', 'blackberry', 'blueberry']\n",
    "pies2 = pies1\n",
    "\n",
    "print(f'''\n",
    "BEFORE:\n",
    "pies1: {pies1}\n",
    "pies2: {pies2}\n",
    "''')\n",
    "\n",
    "pies2.pop()\n",
    "\n",
    "print(f'''\n",
    "AFTER pies2.pop():\n",
    "pies1: {pies1}\n",
    "pies2: {pies2}\n",
    "''')"
   ]
  },
  {
   "cell_type": "markdown",
   "metadata": {},
   "source": [
    "\n",
    "A deep copy creates a *separate instance* of the list in the program's memory so that the two are not tied together at all. Editing a deep copy like `pies3` will NOT alter `pies1`.\n"
   ]
  },
  {
   "cell_type": "code",
   "execution_count": null,
   "metadata": {},
   "outputs": [],
   "source": [
    "pies1 = ['strawberry', 'cherry', 'blackberry', 'blueberry']\n",
    "pies3 = pies1[:]\n",
    "\n",
    "print(f'''\n",
    "BEFORE:\n",
    "pies1: {pies1}\n",
    "pies2: {pies3}\n",
    "''')\n",
    "\n",
    "pies3.pop()\n",
    "\n",
    "print(f'''\n",
    "AFTER pies3.pop():\n",
    "pies1: {pies1}\n",
    "pies3: {pies3}\n",
    "''')"
   ]
  },
  {
   "cell_type": "markdown",
   "metadata": {},
   "source": [
    "\n",
    "### Update/Replace Items in a List\n",
    "\n",
    "To replace items in a list, you reference them by their index position and simply declare a new value. The general syntax is `my_list[<index>] = <value>`. \n"
   ]
  },
  {
   "cell_type": "code",
   "execution_count": null,
   "metadata": {},
   "outputs": [],
   "source": [
    "pies = ['apple', 'pumpkin', 'pecan', 'blueberry']\n",
    "pies[0] = 'banana cream'\n",
    "print(pies)"
   ]
  },
  {
   "cell_type": "markdown",
   "metadata": {},
   "source": [
    "\n",
    "Let's say you specify one index position and pass a group of elements like the below. That group *as a whole* replaces the element at the specified index position.\n"
   ]
  },
  {
   "cell_type": "code",
   "execution_count": null,
   "metadata": {},
   "outputs": [],
   "source": [
    "pies = ['banana cream', 'pumpkin', 'pecan', 'blueberry']\n",
    "pies[1] = ['key lime', 'lemon meringue']\n",
    "print(pies)"
   ]
  },
  {
   "cell_type": "markdown",
   "metadata": {},
   "source": [
    "\n",
    "If you specify a range of index positions, each item in the group gets added individually (sort of like `.extend()`). Here are a few examples...\n",
    "\n",
    "* This replaces everything from index position 1 onward with the three new elements passed.\n"
   ]
  },
  {
   "cell_type": "code",
   "execution_count": null,
   "metadata": {},
   "outputs": [],
   "source": [
    "pies = ['strawberry', 'banana cream', 'key lime']\n",
    "pies[1:] = ['blueberry', 'cherry', 'blackberry']\n",
    "print(pies)"
   ]
  },
  {
   "cell_type": "markdown",
   "metadata": {},
   "source": [
    "\n",
    "* This replaces every element up to, but NOT including index position 2 with the three new elements passed. Notice how the *three* new elements replaced only *two* existing elements.\n"
   ]
  },
  {
   "cell_type": "code",
   "execution_count": null,
   "metadata": {},
   "outputs": [],
   "source": [
    "pies = ['strawberry', 'blueberry', 'cherry', 'blackberry']\n",
    "pies[:2] = ['apple', 'pumpkin', 'pecan']\n",
    "print(pies)"
   ]
  },
  {
   "cell_type": "markdown",
   "metadata": {},
   "source": [
    "\n",
    "* Even if you pass one new element, it must be in `list` format. Otherwise, Python will try to break it up into a list like the below...\n"
   ]
  },
  {
   "cell_type": "code",
   "execution_count": null,
   "metadata": {},
   "outputs": [],
   "source": [
    "pies1 = ['strawberry', 'banana cream', 'key lime', 'apple', 'pumpkin']\n",
    "pies2 = pies1[:]\n",
    "\n",
    "pies1[1:3] = ['blueberry']\n",
    "pies2[1:3] = 'blueberry'\n",
    "print(pies1) # ['strawberry', 'blueberry', 'apple', 'pumpkin']\n",
    "print(pies2) # ['strawberry', 'b', 'l', 'u', 'e', 'b', 'e', 'r', 'r', 'y','apple', 'pumpkin']"
   ]
  },
  {
   "cell_type": "markdown",
   "metadata": {},
   "source": [
    "\n",
    "#### Join Items\n",
    "\n",
    "If you need to, you can compile your list items into a single string using `.join()`. You CANNOT do this with lists of numbers, booleans, or a list containing a mix of strings and other data types though.\n"
   ]
  },
  {
   "cell_type": "code",
   "execution_count": null,
   "metadata": {},
   "outputs": [],
   "source": [
    "letters = ['j', 'u', 'l', 'i', 'a', 'n', 'n', 'a']\n",
    "name = ''.join(letters)\n",
    "print(name) # 'julianna'\n",
    "\n",
    "words = ['this', 'is', 'fun']\n",
    "sentence = ' '.join(words)\n",
    "print(f'{sentence}.') # 'this is fun.'"
   ]
  },
  {
   "cell_type": "markdown",
   "metadata": {},
   "source": [
    "\n",
    "#### Split Items\n",
    "\n",
    "Conversely, you can separate a string using `.split(<by_char>)`, which will parse values out of a string and turn each value into a list item. This one doesn't work for single words you might want to split into individual characters. That said, you *can* specify what character should convey to the method when to split out a new item. By default, `.split(<by_char>)` will use a space character to split the string.\n"
   ]
  },
  {
   "cell_type": "code",
   "execution_count": null,
   "metadata": {},
   "outputs": [],
   "source": [
    "x = 'this is fun'\n",
    "sentence = x.split() # note - using default split char at space\n",
    "print(sentence) # ['this', 'is', 'fun']\n",
    "\n",
    "y = 'Sandra,hi@email.com,646-212-1234,8 Cherry Lane,Splitsville,FL,58028'\n",
    "data = y.split(',')\n",
    "print(data) # ['Sandra', 'hi@email.com', '646-212-1234', '8 Cherry Lane', 'Splitsville', 'FL', '58028']"
   ]
  },
  {
   "cell_type": "markdown",
   "metadata": {},
   "source": [
    "\n",
    "## Built-in Operators for Analyzing Lists\n",
    "\n",
    "Python has some built-in operations that allow you to analyze the content of a list. Some basic ones include:\n",
    "\n",
    "**`sum()`**: returns the sum of all items in *numerical lists*.\n"
   ]
  },
  {
   "cell_type": "code",
   "execution_count": null,
   "metadata": {},
   "outputs": [],
   "source": [
    "team_batting_avgs = [.328, .299, .208, .301, .275, .226, .253, .232, .287]\n",
    "sum_avgs = sum(team_batting_avgs)\n",
    "print(f'The total of all the batting averages is {sum_avgs}.')"
   ]
  },
  {
   "cell_type": "markdown",
   "metadata": {},
   "source": [
    "**`min()`** & **`max()`**: return the smallest or largest number *in a numerical list*.\n"
   ]
  },
  {
   "cell_type": "code",
   "execution_count": null,
   "metadata": {},
   "outputs": [],
   "source": [
    "team_batting_avgs = [.299, .208, .301, .275, .328, .226, .253, .232, .287]\n",
    "\n",
    "print(f'Highest: {max(team_batting_avgs)}') # .328\n",
    "print(f'Lowest: {min(team_batting_avgs)}') # .208"
   ]
  },
  {
   "cell_type": "markdown",
   "metadata": {},
   "source": [
    "\n",
    "#### `.index()`\n",
    "\n",
    "Given a list element's value, return its index.\n"
   ]
  },
  {
   "cell_type": "code",
   "execution_count": null,
   "metadata": {},
   "outputs": [],
   "source": [
    "sentence = ['a', 'purple', 'pig', 'and', 'a', 'green', 'donkey', 'flew', 'a', 'kite', 'in', 'the', 'middle','of', 'the', 'night', 'and', 'ended', 'up', 'sunburnt']\n",
    "\n",
    "pig_index = sentence.index('pig')\n",
    "print(pig_index)"
   ]
  },
  {
   "cell_type": "markdown",
   "metadata": {},
   "source": [
    "\n",
    "If the element occurs multiple times in the list, `.index()` will only return the index of its *first* occurrence!\n"
   ]
  },
  {
   "cell_type": "code",
   "execution_count": null,
   "metadata": {},
   "outputs": [],
   "source": [
    "sentence = ['a', 'purple', 'pig', 'AND', 'a', 'green', 'donkey', 'flew', 'a', 'kite', 'in', 'the', 'middle','of', 'the', 'night', 'AND', 'ended', 'up', 'sunburnt']\n",
    "\n",
    "and_index = sentence.index('AND')\n",
    "print(and_index) # 3"
   ]
  },
  {
   "cell_type": "markdown",
   "metadata": {},
   "source": [
    "\n",
    "#### `.count()`\n",
    "\n",
    "This returns the number of occurrences of a *single, distinct element* within a list. That means for example, if you're searching a list of words (i.e. strings) for the occurrences of a single letter, only instances where that single letter appears as its own list item will be counted.\n"
   ]
  },
  {
   "cell_type": "code",
   "execution_count": null,
   "metadata": {},
   "outputs": [],
   "source": [
    "nums = [84, 8, 18, 8, 28, 6, 10, 8, 78, 9]\n",
    "print(nums.count(8)) # 3\n",
    "\n",
    "\n",
    "sentence = ['a', 'purple', 'pig', 'and', 'a', 'green', 'donkey', 'flew', 'a', 'kite', 'in', 'the', 'middle','of', 'the', 'night', 'and', 'ended', 'up', 'sunburnt']\n",
    "print(sentence.count('a')) # 3"
   ]
  },
  {
   "cell_type": "markdown",
   "metadata": {},
   "source": [
    "\n",
    "If you want to count the occurrences of a single character within a larger value, you can still use `.count()`...\n"
   ]
  },
  {
   "cell_type": "code",
   "execution_count": null,
   "metadata": {},
   "outputs": [],
   "source": [
    "word = 'sunburnt'\n",
    "print(word.count('u')) # 2"
   ]
  },
  {
   "cell_type": "markdown",
   "metadata": {},
   "source": [
    "\n",
    ">>**GOTCHA!**\n",
    ">>`.count()` throws an error if you try to count the number of times the digit \"2\" appears in the number below. And remember, you CANNOT use the `.split()` method as a workaround because `.split()` only works on strings!\n"
   ]
  },
  {
   "cell_type": "code",
   "execution_count": null,
   "metadata": {},
   "outputs": [],
   "source": [
    "num = 22384232348\n",
    "\n",
    "try:\n",
    "\tprint(num.count(2))\n",
    "except Exception as e:\n",
    "\tprint(e)"
   ]
  },
  {
   "cell_type": "markdown",
   "metadata": {},
   "source": [
    "\n",
    "#### Practice Together!\n",
    "\n",
    "Now, take a look at how these list operations work together in this contextual example. Let's say we're conducting a probability experiment with coin tosses. We conduct some number of trials (i.e. the coin tosses) and record the outcomes. Based on the sample below, here's one way to find the probabilities of a \"Heads\" or \"Tails\" outcome.\n"
   ]
  },
  {
   "cell_type": "code",
   "execution_count": null,
   "metadata": {},
   "outputs": [],
   "source": [
    "coin_toss = [True, False, False, False, True, False, True, True, False, False, True, True, False, True]\n"
   ]
  },
  {
   "cell_type": "markdown",
   "metadata": {},
   "source": [
    "### 🏋️‍♀️ **EXERCISES** 🏋️‍♀️ \n",
    "\n",
    "Test your new knowledge with the \"List Ops\" PSET in your copy of `lists_psets.ipynb` in Google Drive.\n",
    "\n",
    "## Sorting Lists\n",
    "\n",
    "If you want to organize your lists better, you can sort them with the `.sort()` or `sorted()` functions. You can sort:\n",
    "\n",
    "* Numbers: ascending and descending order\n",
    "* Strings: alphabetically and reverse alphabetically\n",
    "* You **cannot** sort a list that includes different data types. \n",
    "\n",
    ">**GOTCHA!**\n",
    ">It's important to remember that the `.sort()` method modifies the list *in place*, while the `sorted()` function requires you to assign its result back to the variable.\n",
    "\n",
    "#### `.sort()`\n",
    "\n",
    "The first two examples below illustrate how to sort lists in ascending order/alphabetically using `.sort()`.\n"
   ]
  },
  {
   "cell_type": "code",
   "execution_count": null,
   "metadata": {},
   "outputs": [],
   "source": [
    "numbers = [1, 3, 7, 5, 2, 4, 6]\n",
    "numbers.sort()\n",
    "print(numbers) # [1, 2, 3, 4, 5, 6, 7]\n",
    "\n",
    "\n",
    "letters = ['b', 'e', 'c', 'a', 'd']\n",
    "letters.sort()\n",
    "print(letters) # ['a', 'b', 'c', 'd', 'e']"
   ]
  },
  {
   "cell_type": "markdown",
   "metadata": {},
   "source": [
    "\n",
    "To do this in descending order, simply add `reverse=True` as an argument in `.sort()` like this:\n"
   ]
  },
  {
   "cell_type": "code",
   "execution_count": null,
   "metadata": {},
   "outputs": [],
   "source": [
    "numbers = [1, 3, 7, 5, 2, 4, 6]\n",
    "numbers.sort(reverse = True)\n",
    "print(numbers) # [7, 6, 5, 4, 3, 2, 1]\n",
    "\n",
    "letters = ['b', 'e', 'c', 'a', 'd']\n",
    "letters.sort(reverse = True)\n",
    "print(letters) # ['e', 'd', 'c', 'b', 'a']"
   ]
  },
  {
   "cell_type": "markdown",
   "metadata": {},
   "source": [
    "\n",
    "#### `sorted()`\n",
    "\n",
    "The first two examples below illustrate how to sort lists in **ascending order**/alphabetically using `sorted()`.\n"
   ]
  },
  {
   "cell_type": "code",
   "execution_count": null,
   "metadata": {},
   "outputs": [],
   "source": [
    "numbers = [1, 3, 7, 5, 2, 4, 6]\n",
    "ascending = sorted(numbers)\n",
    "print(ascending) # [1, 2, 3, 4, 5, 6, 7]\n",
    "\n",
    "\n",
    "letters = ['b', 'e', 'c', 'a', 'd']\n",
    "ascending = sorted(letters)\n",
    "print(ascending) # ['a', 'b', 'c', 'd', 'e']"
   ]
  },
  {
   "cell_type": "markdown",
   "metadata": {},
   "source": [
    "\n",
    "To do this in **descending order**, simply add `reverse=True` as an argument in `sorted()` like this:\n"
   ]
  },
  {
   "cell_type": "code",
   "execution_count": null,
   "metadata": {},
   "outputs": [],
   "source": [
    "numbers = [1, 3, 7, 5, 2, 4, 6]\n",
    "descending = sorted(numbers, reverse=True)\n",
    "print(descending) # [7, 6, 5, 4, 3, 2, 1]\n",
    "\n",
    "\n",
    "letters = ['b', 'e', 'c', 'a', 'd']\n",
    "descending = sorted(letters, reverse=True)\n",
    "print(descending) # ['e', 'd', 'c', 'b', 'a']"
   ]
  },
  {
   "cell_type": "markdown",
   "metadata": {},
   "source": [
    "\n",
    "### 🏋️‍♀️ **EXERCISES** 🏋️‍♀️ \n",
    "\n",
    "Take a shot at the \"Sorting\" and \"List Manipulation\" PSETs in your copy of `lists_psets.ipynb` in Google Drive.\n",
    "\n",
    "## Key Takeaways\n",
    "\n",
    "* Pass comma-separated values within `[]` to create a list object\n",
    "* An element's *index position* refers to its numerical place in the list. The index always starts at 0, i.e. the first element of the list is at index position 0.\n",
    "* Access a list elements based on its index position using the syntax `my_list[<index>]`\n",
    "* `len()` will return the length of the list\n",
    "* `.append()` adds an element to the end of a list\n",
    "\t* If you pass a group of elements to `.append()`, they get added as a *single* element.\n",
    "* To elements from a group to a list individually, pass the group to `.extend()`\n",
    "* `.pop()` removes the last item from the list\n",
    "\t* Pass an index position into `.pop()` to remove a specific element\n",
    "* `my_list[idx] = new_value` updates an element at a specific index position\n",
    "* To create a deep, or completely separate, copy, use `my_list[:]`\n",
    "* For numerical lists...\n",
    "\t* Use `sum()` to find the total of all the numbers in the list\n",
    "\t* Use `max()` and `min()` to return the highest and lowest numbers in the list respectively \n",
    "* `.index()` returns the index position of a specific item in the list\n",
    "* `.count()` returns the number of occurrences of some item within a list\n",
    "* `.join()` compile your list items into a single string\n",
    "* `.split(<by_char>)` will split a string at each occurence of <char> and group those items in a list\n",
    "* `.sort()` or `sorted()` will sort a list in ascending order\n",
    "\t* Pass `reverse = True` to either one to sort the list in descending order"
   ]
  }
 ],
 "metadata": {},
 "nbformat": 4,
 "nbformat_minor": 2
}
