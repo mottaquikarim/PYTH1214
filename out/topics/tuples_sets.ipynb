{
 "cells": [
  {
   "cell_type": "markdown",
   "metadata": {},
   "source": [
    "[![Open In Colab](https://colab.research.google.com/assets/colab-badge.svg)](https://colab.research.google.com/github/mottaquikarim/pycontent/blob/master/.out/topics/tuples_sets.ipynb)"
   ]
  },
  {
   "cell_type": "markdown",
   "metadata": {},
   "source": [
    "# Tuples & Sets\n",
    "\n",
    "## Objective\n",
    "\n",
    "Learn the properties of tuples and sets, which are special subsets of lists.\n",
    "\n",
    "## Tuples\n",
    "\n",
    "Tuples are a special subset of lists. Tuples are *immutable* in that they cannot be changed after creation. Tuples are denoted with `()` as opposed to `[]`.\n",
    "\n",
    "Similar to lists, you can declare tuples with `tuple()` or just `()`. Again, the former can only take one argument, but is useful when you're creating a tuple from an existing list.\n"
   ]
  },
  {
   "cell_type": "code",
   "execution_count": null,
   "metadata": {},
   "outputs": [],
   "source": [
    "x = ['Taq', 100]\n",
    "score1 = tuple(x)\n",
    "print(score1) # ('Taq', 100) \n",
    "\n",
    "# OR\n",
    "\n",
    "score2 = ('Randy', 101) # ('Randy', 101)\n",
    "print(score2)"
   ]
  },
  {
   "cell_type": "markdown",
   "metadata": {},
   "source": [
    "\n",
    ">**GOTCHA!**\n",
    ">If you need to create a tuple that contains only one item, you must define it using `tuple()`.\n"
   ]
  },
  {
   "cell_type": "code",
   "execution_count": null,
   "metadata": {},
   "outputs": [],
   "source": [
    "# Wrong\n",
    "t = (True)\n",
    "print(type(t))\n",
    "\n",
    "# Right\n",
    "t = tuple([True])\n",
    "print(type(t))"
   ]
  },
  {
   "cell_type": "markdown",
   "metadata": {},
   "source": [
    "\n",
    "Also, we read and index slice tuples just like we would a list:\n"
   ]
  },
  {
   "cell_type": "code",
   "execution_count": null,
   "metadata": {},
   "outputs": [],
   "source": [
    "dna = ('A', 'T'), ('G', 'C')\n",
    "print(dna) # (('A', 'T'), ('G', 'C'))\n",
    "\n",
    "\n",
    "print(dna[0]) # ('A', 'T')\n",
    "print(dna[1][0]) # G"
   ]
  },
  {
   "cell_type": "markdown",
   "metadata": {},
   "source": [
    "\n",
    "### Tuple Packing & Unpacking\n",
    "\n",
    "There is also a third way to create a tuple... simply place a comma between two separate values. This is called **packing**.\n"
   ]
  },
  {
   "cell_type": "code",
   "execution_count": null,
   "metadata": {},
   "outputs": [],
   "source": [
    "name = 'Eliza'\n",
    "score = 102\n",
    "eliza_score = 'Eliza', 102\n",
    "print(eliza_score) # ('Eliza', 102)"
   ]
  },
  {
   "cell_type": "markdown",
   "metadata": {},
   "source": [
    "\n",
    "Similarly, you can **unpack** tuples, which means assigning each value in a tuple to its own variable. Remember that the number of variables on the left must be equal to the number of items in the tuple for this to work. Otherwise, it will throw an error!\n"
   ]
  },
  {
   "cell_type": "code",
   "execution_count": null,
   "metadata": {},
   "outputs": [],
   "source": [
    "# Pack\n",
    "eliza_score = 'Eliza', 102\n",
    "print(eliza_score) # ('Eliza', 102)\n",
    "\n",
    "# Unpack\n",
    "name, score = eliza_score\n",
    "print(name, score) # Eliza 102"
   ]
  },
  {
   "cell_type": "markdown",
   "metadata": {},
   "source": [
    "\n",
    "### Tuple Methods\n",
    "\n",
    "MOST list methods can be used on tuples, *so long as they do not attempt to change the tuple **in place**.* Since the tuple is immutable, that will throw an error.\n"
   ]
  },
  {
   "cell_type": "code",
   "execution_count": null,
   "metadata": {},
   "outputs": [],
   "source": [
    "tuple1 = ('apple', 'orchard', 'banana', 'cat', 'dance', '8', '6', '6', '3')\n",
    "\n",
    "# This won't work\n",
    "try:\n",
    "    tuple1.extend(['toast', 'mountain', 'atom'])\n",
    "except Exception as e:\n",
    "    print(f'{e.__class__.__name__}: {e}')"
   ]
  },
  {
   "cell_type": "markdown",
   "metadata": {},
   "source": [
    "\n",
    "Methods that create a copy of tuple before operating on it will work. HOWEVER, if they're supposed to return a collection of data, they will return a *new **list** object* instead of a new tuple.\n"
   ]
  },
  {
   "cell_type": "code",
   "execution_count": null,
   "metadata": {},
   "outputs": [],
   "source": [
    "tuple2 = ('apple', 'orchard', 'banana', 'cat', 'dance', '8', '6', '6', '3')\n",
    "\n",
    "# This works\n",
    "print(', '.join(tuple2))\n",
    "\n",
    "# This works, but returns a LIST object\n",
    "print(sorted(tuple2))"
   ]
  },
  {
   "cell_type": "markdown",
   "metadata": {},
   "source": [
    "\n",
    "### Reasons to Use Tuples Instead of Lists\n",
    "\n",
    "* If a group of values needs to remain constant, using a tuple safeguards against accidental edits.\n",
    "* As the amount of data increases, using tuples instead of lists optimizes program speed.\n",
    "* Tuples enable unpacking of individual items.\n",
    "* Python dictionary objects have a use for tuples (which we'll learn about soon)\n",
    "\n",
    "## Sets\n",
    "\n",
    "Sets are another special subtype of lists. Here are some of their notable qualities:\n",
    "\n",
    "* Sets are denoted with `{}`.\n",
    "* Sets can only have **unique** elements. \n",
    "* Sets are **unordered**, meaning items do not have an index position.\n",
    "* Sets are mutable, BUT you use different methods to modify them than the methods used with lists.\n",
    "\n",
    "The most common use for sets is to remove duplicates from a collection of data. Let's define two separate sets. What what happens:\n"
   ]
  },
  {
   "cell_type": "code",
   "execution_count": null,
   "metadata": {},
   "outputs": [],
   "source": [
    "l = \n",
    "\n",
    "set1 = {1,2,3,4,5} # this is a set, notice the {}\n",
    "set2 = {1,1,1,2,2,3,4,5,5,5} # this is still a set\n",
    "\n",
    "print(set1 == set2) # True"
   ]
  },
  {
   "cell_type": "markdown",
   "metadata": {},
   "source": [
    "\n",
    "### Modifying Sets\n",
    "\n",
    "Let's review some common set methods alongside their list method counterparts. \n",
    "\n",
    "#### Add a Single Element\n",
    "\n",
    "Sets use `.add()` instead of `.append()`\n"
   ]
  },
  {
   "cell_type": "code",
   "execution_count": null,
   "metadata": {},
   "outputs": [],
   "source": [
    "# List\n",
    "x = ['toast', 'mountain', 'atom']\n",
    "x.append('shiny')\n",
    "print(x)\n",
    "\n",
    "# Set\n",
    "y = {'toast', 'mountain', 'atom'}\n",
    "y.add('shiny')\n",
    "print(y)"
   ]
  },
  {
   "cell_type": "markdown",
   "metadata": {},
   "source": [
    "\n",
    "#### Add Multiple Elements\n",
    "\n",
    "Sets use `.update()` instead of `.extend()`\n"
   ]
  },
  {
   "cell_type": "code",
   "execution_count": null,
   "metadata": {},
   "outputs": [],
   "source": [
    "# List\n",
    "x = ['toast', 'mountain', 'atom']\n",
    "x.extend(['shiny', 'crab', 'shell'])\n",
    "print(x)\n",
    "\n",
    "# Set\n",
    "y = {'toast', 'mountain', 'atom'}\n",
    "y.update(['shiny', 'crab', 'shell'])\n",
    "print(y)"
   ]
  },
  {
   "cell_type": "markdown",
   "metadata": {},
   "source": [
    "\n",
    "#### Remove a Single Element\n",
    "\n",
    "Instead of `.pop()`, sets use either `.remove()` or `.discard()`. The latter is preferred because it removes the element *if it exists within the set*. The `.remove()` method will throw an error if you try to remove an element that does not exist in the set.\n"
   ]
  },
  {
   "cell_type": "code",
   "execution_count": null,
   "metadata": {},
   "outputs": [],
   "source": [
    "# List\n",
    "x = ['toast', 'mountain', 'atom']\n",
    "x.pop(x.index('toast'))\n",
    "print(x)\n",
    "\n",
    "# Set\n",
    "y = {'toast', 'mountain', 'atom'}\n",
    "y.discard('toast')\n",
    "y.discard('shiny')\n",
    "print(y)"
   ]
  },
  {
   "cell_type": "markdown",
   "metadata": {},
   "source": [
    "\n",
    "#### Other List Methods\n",
    "\n",
    "You can apply SOME list methods to sets. However, like tuples, these methods will NOT edit the set **in place**. Instead, if they're supposed to return a collection of data, they return a *new **list** object*.\n"
   ]
  },
  {
   "cell_type": "code",
   "execution_count": null,
   "metadata": {},
   "outputs": [],
   "source": [
    "s = {'run', 'jump', 'skip', 'crawl'}\n",
    "\n",
    "# This works\n",
    "print(', '.join(s))\n",
    "\n",
    "# This works, but returns a LIST object\n",
    "print(sorted(s))"
   ]
  },
  {
   "cell_type": "markdown",
   "metadata": {},
   "source": [
    "\n",
    "### Set Theory\n",
    "\n",
    "Sets are of course also useful for **[set theory](https://en.wikipedia.org/wiki/Set_theory)** purposes. At its simplest, \"set theory\" is concerned with examining and comparing collections of items. \n",
    "\n",
    "For this class, we'll only discuss the 3 most basic and common use cases of set theory with Python. set membership. \n",
    "\n",
    "#### Membership: \"Are these values in the data already?\"\n",
    "\n",
    "Because sets are not indexed, you cannot access a specific element. The most you can do is check for Simple and common a value's existence in the set using a boolean membership operator.\n"
   ]
  },
  {
   "cell_type": "code",
   "execution_count": null,
   "metadata": {},
   "outputs": [],
   "source": [
    "set1 = {1,2,3,4,5}\n",
    "\n",
    "print(2 in set1) # True\n",
    "print(8 in set1) # False"
   ]
  },
  {
   "cell_type": "markdown",
   "metadata": {},
   "source": [
    "\n",
    "Unfortunately, you CANNOT use operators if you want to check the membership of multiple elements at the same time. For that you can use `smaller.issubset(larger)`. Note that it will only evaluate to `True` if ALL elements in the smaller set are contained in the larger set.\n"
   ]
  },
  {
   "cell_type": "code",
   "execution_count": null,
   "metadata": {},
   "outputs": [],
   "source": [
    "set1 = {1,2,3,4,5}\n",
    "set2 = {2, 8}\n",
    "set3 = {2, 3}\n",
    "\n",
    "\n",
    "print(set2.issubset(set1)) # False\n",
    "print(set3.issubset(set1)) # True"
   ]
  },
  {
   "cell_type": "markdown",
   "metadata": {},
   "source": [
    "\n",
    "#### Union: \"I want to combine these two data collections without adding duplicates.\"\n",
    "\n",
    "A **union** combines all the elements of two sets, but excludes adding duplicate values. The syntax used is `a.union(b)`.\n"
   ]
  },
  {
   "cell_type": "code",
   "execution_count": null,
   "metadata": {},
   "outputs": [],
   "source": [
    "colors1 = {'yellow', 'violet', 'green', 'orange'}\n",
    "colors2 = {'yellow', 'violet', 'indigo', 'red'}\n",
    "\n",
    "rainbow = colors1.union(colors2)\n",
    "print(rainbow)"
   ]
  },
  {
   "cell_type": "markdown",
   "metadata": {},
   "source": [
    "\n",
    "#### Intersection: \"What elements exist in both collections of data?\"\n",
    "\n",
    "An **intersection** returns ONLY the elements that exist in both groups. The Python syntax used is `a.intersection(b)`.\n"
   ]
  },
  {
   "cell_type": "code",
   "execution_count": null,
   "metadata": {},
   "outputs": [],
   "source": [
    "colors1 = {'yellow', 'violet', 'green', 'orange'}\n",
    "colors2 = {'yellow', 'violet', 'indigo', 'red'}\n",
    "\n",
    "rainbow = colors1.intersection(colors2)\n",
    "print(rainbow)"
   ]
  },
  {
   "cell_type": "markdown",
   "metadata": {},
   "source": [
    "\n",
    "#### More Set Theory with Python\n",
    "\n",
    "If you're interested in delving further into set theory, you can find a helpful list of set theory operators and methods **[here](https://snakify.org/en/lessons/sets/#section_4)**."
   ]
  }
 ],
 "metadata": {},
 "nbformat": 4,
 "nbformat_minor": 2
}
